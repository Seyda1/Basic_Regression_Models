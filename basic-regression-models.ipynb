{
 "cells": [
  {
   "cell_type": "code",
   "execution_count": 1,
   "metadata": {
    "_cell_guid": "b1076dfc-b9ad-4769-8c92-a6c4dae69d19",
    "_uuid": "8f2839f25d086af736a60e9eeb907d3b93b6e0e5",
    "execution": {
     "iopub.execute_input": "2020-12-11T07:41:56.315602Z",
     "iopub.status.busy": "2020-12-11T07:41:56.314795Z",
     "iopub.status.idle": "2020-12-11T07:41:56.324599Z",
     "shell.execute_reply": "2020-12-11T07:41:56.325235Z"
    },
    "papermill": {
     "duration": 0.046117,
     "end_time": "2020-12-11T07:41:56.325471",
     "exception": false,
     "start_time": "2020-12-11T07:41:56.279354",
     "status": "completed"
    },
    "tags": []
   },
   "outputs": [
    {
     "name": "stdout",
     "output_type": "stream",
     "text": [
      "/kaggle/input/boston-house-prices/housing.csv\n"
     ]
    }
   ],
   "source": [
    "# This Python 3 environment comes with many helpful analytics libraries installed\n",
    "# It is defined by the kaggle/python Docker image: https://github.com/kaggle/docker-python\n",
    "# For example, here's several helpful packages to load\n",
    "\n",
    "import numpy as np # linear algebra\n",
    "import pandas as pd # data processing, CSV file I/O (e.g. pd.read_csv)\n",
    "import matplotlib.pyplot as plt\n",
    "# Input data files are available in the read-only \"../input/\" directory\n",
    "# For example, running this (by clicking run or pressing Shift+Enter) will list all files under the input directory\n",
    "\n",
    "import os\n",
    "for dirname, _, filenames in os.walk('/kaggle/input'):\n",
    "    for filename in filenames:\n",
    "        print(os.path.join(dirname, filename))\n",
    "\n",
    "# You can write up to 20GB to the current directory (/kaggle/working/) that gets preserved as output when you create a version using \"Save & Run All\" \n",
    "# You can also write temporary files to /kaggle/temp/, but they won't be saved outside of the current session"
   ]
  },
  {
   "cell_type": "code",
   "execution_count": 2,
   "metadata": {
    "execution": {
     "iopub.execute_input": "2020-12-11T07:41:56.384878Z",
     "iopub.status.busy": "2020-12-11T07:41:56.384036Z",
     "iopub.status.idle": "2020-12-11T07:41:56.386827Z",
     "shell.execute_reply": "2020-12-11T07:41:56.385995Z"
    },
    "papermill": {
     "duration": 0.034838,
     "end_time": "2020-12-11T07:41:56.387020",
     "exception": false,
     "start_time": "2020-12-11T07:41:56.352182",
     "status": "completed"
    },
    "tags": []
   },
   "outputs": [],
   "source": [
    "column_names= ['CRIM', 'ZN', 'INDUS', 'CHAS', 'NOX', 'RM', 'AGE', 'DIS', 'RAD', 'TAX', 'PTRATIO', 'B', 'LSTAT', 'MEDV']"
   ]
  },
  {
   "cell_type": "code",
   "execution_count": 3,
   "metadata": {
    "execution": {
     "iopub.execute_input": "2020-12-11T07:41:56.448353Z",
     "iopub.status.busy": "2020-12-11T07:41:56.447530Z",
     "iopub.status.idle": "2020-12-11T07:41:56.494453Z",
     "shell.execute_reply": "2020-12-11T07:41:56.495058Z"
    },
    "papermill": {
     "duration": 0.0816,
     "end_time": "2020-12-11T07:41:56.495235",
     "exception": false,
     "start_time": "2020-12-11T07:41:56.413635",
     "status": "completed"
    },
    "tags": []
   },
   "outputs": [
    {
     "data": {
      "text/html": [
       "<div>\n",
       "<style scoped>\n",
       "    .dataframe tbody tr th:only-of-type {\n",
       "        vertical-align: middle;\n",
       "    }\n",
       "\n",
       "    .dataframe tbody tr th {\n",
       "        vertical-align: top;\n",
       "    }\n",
       "\n",
       "    .dataframe thead th {\n",
       "        text-align: right;\n",
       "    }\n",
       "</style>\n",
       "<table border=\"1\" class=\"dataframe\">\n",
       "  <thead>\n",
       "    <tr style=\"text-align: right;\">\n",
       "      <th></th>\n",
       "      <th>CRIM</th>\n",
       "      <th>ZN</th>\n",
       "      <th>INDUS</th>\n",
       "      <th>CHAS</th>\n",
       "      <th>NOX</th>\n",
       "      <th>RM</th>\n",
       "      <th>AGE</th>\n",
       "      <th>DIS</th>\n",
       "      <th>RAD</th>\n",
       "      <th>TAX</th>\n",
       "      <th>PTRATIO</th>\n",
       "      <th>B</th>\n",
       "      <th>LSTAT</th>\n",
       "      <th>MEDV</th>\n",
       "    </tr>\n",
       "  </thead>\n",
       "  <tbody>\n",
       "    <tr>\n",
       "      <th>0</th>\n",
       "      <td>0.00632</td>\n",
       "      <td>18.0</td>\n",
       "      <td>2.31</td>\n",
       "      <td>0</td>\n",
       "      <td>0.538</td>\n",
       "      <td>6.575</td>\n",
       "      <td>65.2</td>\n",
       "      <td>4.0900</td>\n",
       "      <td>1</td>\n",
       "      <td>296.0</td>\n",
       "      <td>15.3</td>\n",
       "      <td>396.90</td>\n",
       "      <td>4.98</td>\n",
       "      <td>24.0</td>\n",
       "    </tr>\n",
       "    <tr>\n",
       "      <th>1</th>\n",
       "      <td>0.02731</td>\n",
       "      <td>0.0</td>\n",
       "      <td>7.07</td>\n",
       "      <td>0</td>\n",
       "      <td>0.469</td>\n",
       "      <td>6.421</td>\n",
       "      <td>78.9</td>\n",
       "      <td>4.9671</td>\n",
       "      <td>2</td>\n",
       "      <td>242.0</td>\n",
       "      <td>17.8</td>\n",
       "      <td>396.90</td>\n",
       "      <td>9.14</td>\n",
       "      <td>21.6</td>\n",
       "    </tr>\n",
       "    <tr>\n",
       "      <th>2</th>\n",
       "      <td>0.02729</td>\n",
       "      <td>0.0</td>\n",
       "      <td>7.07</td>\n",
       "      <td>0</td>\n",
       "      <td>0.469</td>\n",
       "      <td>7.185</td>\n",
       "      <td>61.1</td>\n",
       "      <td>4.9671</td>\n",
       "      <td>2</td>\n",
       "      <td>242.0</td>\n",
       "      <td>17.8</td>\n",
       "      <td>392.83</td>\n",
       "      <td>4.03</td>\n",
       "      <td>34.7</td>\n",
       "    </tr>\n",
       "    <tr>\n",
       "      <th>3</th>\n",
       "      <td>0.03237</td>\n",
       "      <td>0.0</td>\n",
       "      <td>2.18</td>\n",
       "      <td>0</td>\n",
       "      <td>0.458</td>\n",
       "      <td>6.998</td>\n",
       "      <td>45.8</td>\n",
       "      <td>6.0622</td>\n",
       "      <td>3</td>\n",
       "      <td>222.0</td>\n",
       "      <td>18.7</td>\n",
       "      <td>394.63</td>\n",
       "      <td>2.94</td>\n",
       "      <td>33.4</td>\n",
       "    </tr>\n",
       "    <tr>\n",
       "      <th>4</th>\n",
       "      <td>0.06905</td>\n",
       "      <td>0.0</td>\n",
       "      <td>2.18</td>\n",
       "      <td>0</td>\n",
       "      <td>0.458</td>\n",
       "      <td>7.147</td>\n",
       "      <td>54.2</td>\n",
       "      <td>6.0622</td>\n",
       "      <td>3</td>\n",
       "      <td>222.0</td>\n",
       "      <td>18.7</td>\n",
       "      <td>396.90</td>\n",
       "      <td>5.33</td>\n",
       "      <td>36.2</td>\n",
       "    </tr>\n",
       "  </tbody>\n",
       "</table>\n",
       "</div>"
      ],
      "text/plain": [
       "      CRIM    ZN  INDUS  CHAS    NOX     RM   AGE     DIS  RAD    TAX  \\\n",
       "0  0.00632  18.0   2.31     0  0.538  6.575  65.2  4.0900    1  296.0   \n",
       "1  0.02731   0.0   7.07     0  0.469  6.421  78.9  4.9671    2  242.0   \n",
       "2  0.02729   0.0   7.07     0  0.469  7.185  61.1  4.9671    2  242.0   \n",
       "3  0.03237   0.0   2.18     0  0.458  6.998  45.8  6.0622    3  222.0   \n",
       "4  0.06905   0.0   2.18     0  0.458  7.147  54.2  6.0622    3  222.0   \n",
       "\n",
       "   PTRATIO       B  LSTAT  MEDV  \n",
       "0     15.3  396.90   4.98  24.0  \n",
       "1     17.8  396.90   9.14  21.6  \n",
       "2     17.8  392.83   4.03  34.7  \n",
       "3     18.7  394.63   2.94  33.4  \n",
       "4     18.7  396.90   5.33  36.2  "
      ]
     },
     "execution_count": 3,
     "metadata": {},
     "output_type": "execute_result"
    }
   ],
   "source": [
    "df=pd.read_csv('/kaggle/input/boston-house-prices/housing.csv',delim_whitespace=True,names=column_names)\n",
    "df.head()"
   ]
  },
  {
   "cell_type": "markdown",
   "metadata": {
    "papermill": {
     "duration": 0.026733,
     "end_time": "2020-12-11T07:41:56.549301",
     "exception": false,
     "start_time": "2020-12-11T07:41:56.522568",
     "status": "completed"
    },
    "tags": []
   },
   "source": [
    "The variable we need predict is the **MEDV ** variable"
   ]
  },
  {
   "cell_type": "code",
   "execution_count": 4,
   "metadata": {
    "execution": {
     "iopub.execute_input": "2020-12-11T07:41:56.621597Z",
     "iopub.status.busy": "2020-12-11T07:41:56.620594Z",
     "iopub.status.idle": "2020-12-11T07:41:56.625503Z",
     "shell.execute_reply": "2020-12-11T07:41:56.626497Z"
    },
    "papermill": {
     "duration": 0.050098,
     "end_time": "2020-12-11T07:41:56.626780",
     "exception": false,
     "start_time": "2020-12-11T07:41:56.576682",
     "status": "completed"
    },
    "tags": []
   },
   "outputs": [
    {
     "name": "stdout",
     "output_type": "stream",
     "text": [
      "<class 'pandas.core.frame.DataFrame'>\n",
      "RangeIndex: 506 entries, 0 to 505\n",
      "Data columns (total 14 columns):\n",
      " #   Column   Non-Null Count  Dtype  \n",
      "---  ------   --------------  -----  \n",
      " 0   CRIM     506 non-null    float64\n",
      " 1   ZN       506 non-null    float64\n",
      " 2   INDUS    506 non-null    float64\n",
      " 3   CHAS     506 non-null    int64  \n",
      " 4   NOX      506 non-null    float64\n",
      " 5   RM       506 non-null    float64\n",
      " 6   AGE      506 non-null    float64\n",
      " 7   DIS      506 non-null    float64\n",
      " 8   RAD      506 non-null    int64  \n",
      " 9   TAX      506 non-null    float64\n",
      " 10  PTRATIO  506 non-null    float64\n",
      " 11  B        506 non-null    float64\n",
      " 12  LSTAT    506 non-null    float64\n",
      " 13  MEDV     506 non-null    float64\n",
      "dtypes: float64(12), int64(2)\n",
      "memory usage: 55.5 KB\n"
     ]
    }
   ],
   "source": [
    "df.info()"
   ]
  },
  {
   "cell_type": "markdown",
   "metadata": {
    "papermill": {
     "duration": 0.028025,
     "end_time": "2020-12-11T07:41:56.683239",
     "exception": false,
     "start_time": "2020-12-11T07:41:56.655214",
     "status": "completed"
    },
    "tags": []
   },
   "source": [
    "df.shape()"
   ]
  },
  {
   "cell_type": "code",
   "execution_count": 5,
   "metadata": {
    "execution": {
     "iopub.execute_input": "2020-12-11T07:41:56.751683Z",
     "iopub.status.busy": "2020-12-11T07:41:56.745168Z",
     "iopub.status.idle": "2020-12-11T07:41:56.756990Z",
     "shell.execute_reply": "2020-12-11T07:41:56.755986Z"
    },
    "papermill": {
     "duration": 0.04641,
     "end_time": "2020-12-11T07:41:56.757191",
     "exception": false,
     "start_time": "2020-12-11T07:41:56.710781",
     "status": "completed"
    },
    "tags": []
   },
   "outputs": [
    {
     "name": "stdout",
     "output_type": "stream",
     "text": [
      "<class 'pandas.core.frame.DataFrame'>\n",
      "RangeIndex: 506 entries, 0 to 505\n",
      "Data columns (total 14 columns):\n",
      " #   Column   Non-Null Count  Dtype  \n",
      "---  ------   --------------  -----  \n",
      " 0   CRIM     506 non-null    float64\n",
      " 1   ZN       506 non-null    float64\n",
      " 2   INDUS    506 non-null    float64\n",
      " 3   CHAS     506 non-null    int64  \n",
      " 4   NOX      506 non-null    float64\n",
      " 5   RM       506 non-null    float64\n",
      " 6   AGE      506 non-null    float64\n",
      " 7   DIS      506 non-null    float64\n",
      " 8   RAD      506 non-null    int64  \n",
      " 9   TAX      506 non-null    float64\n",
      " 10  PTRATIO  506 non-null    float64\n",
      " 11  B        506 non-null    float64\n",
      " 12  LSTAT    506 non-null    float64\n",
      " 13  MEDV     506 non-null    float64\n",
      "dtypes: float64(12), int64(2)\n",
      "memory usage: 55.5 KB\n"
     ]
    }
   ],
   "source": [
    "df.info()"
   ]
  },
  {
   "cell_type": "code",
   "execution_count": 6,
   "metadata": {
    "execution": {
     "iopub.execute_input": "2020-12-11T07:41:56.823103Z",
     "iopub.status.busy": "2020-12-11T07:41:56.821946Z",
     "iopub.status.idle": "2020-12-11T07:41:56.827177Z",
     "shell.execute_reply": "2020-12-11T07:41:56.826423Z"
    },
    "papermill": {
     "duration": 0.041572,
     "end_time": "2020-12-11T07:41:56.827304",
     "exception": false,
     "start_time": "2020-12-11T07:41:56.785732",
     "status": "completed"
    },
    "tags": []
   },
   "outputs": [
    {
     "data": {
      "text/plain": [
       "CRIM       0\n",
       "ZN         0\n",
       "INDUS      0\n",
       "CHAS       0\n",
       "NOX        0\n",
       "RM         0\n",
       "AGE        0\n",
       "DIS        0\n",
       "RAD        0\n",
       "TAX        0\n",
       "PTRATIO    0\n",
       "B          0\n",
       "LSTAT      0\n",
       "MEDV       0\n",
       "dtype: int64"
      ]
     },
     "execution_count": 6,
     "metadata": {},
     "output_type": "execute_result"
    }
   ],
   "source": [
    "#checking for missing data\n",
    "df.isnull().sum()"
   ]
  },
  {
   "cell_type": "markdown",
   "metadata": {
    "papermill": {
     "duration": 0.028452,
     "end_time": "2020-12-11T07:41:56.884155",
     "exception": false,
     "start_time": "2020-12-11T07:41:56.855703",
     "status": "completed"
    },
    "tags": []
   },
   "source": [
    "There is no missing values in the data set."
   ]
  },
  {
   "cell_type": "markdown",
   "metadata": {
    "papermill": {
     "duration": 0.028423,
     "end_time": "2020-12-11T07:41:56.941210",
     "exception": false,
     "start_time": "2020-12-11T07:41:56.912787",
     "status": "completed"
    },
    "tags": []
   },
   "source": [
    "Simple Linear Regression "
   ]
  },
  {
   "cell_type": "markdown",
   "metadata": {
    "papermill": {
     "duration": 0.028704,
     "end_time": "2020-12-11T07:41:56.999501",
     "exception": false,
     "start_time": "2020-12-11T07:41:56.970797",
     "status": "completed"
    },
    "tags": []
   },
   "source": [
    "Regression, using the relationship between variables to find the best fit line or the regression equation that can be used to make preedictions.\n",
    "The core idea is to obtain a line that best fits the data.\n",
    "\n",
    "y=b0+b1*x\n",
    "b0=coefficient\n",
    "b1=constant(bias)\n",
    "\n",
    "Simple linear regression is useful for finding relationship between two continuous variables. One is independent(x) variable and other is dependent(y) variable.\n",
    "\n",
    "So i used CRIM column as x.\n",
    " "
   ]
  },
  {
   "cell_type": "code",
   "execution_count": 7,
   "metadata": {
    "execution": {
     "iopub.execute_input": "2020-12-11T07:41:57.064425Z",
     "iopub.status.busy": "2020-12-11T07:41:57.063672Z",
     "iopub.status.idle": "2020-12-11T07:41:57.294006Z",
     "shell.execute_reply": "2020-12-11T07:41:57.294598Z"
    },
    "papermill": {
     "duration": 0.266232,
     "end_time": "2020-12-11T07:41:57.294775",
     "exception": false,
     "start_time": "2020-12-11T07:41:57.028543",
     "status": "completed"
    },
    "tags": []
   },
   "outputs": [
    {
     "data": {
      "text/plain": [
       "Text(0, 0.5, 'MEDV')"
      ]
     },
     "execution_count": 7,
     "metadata": {},
     "output_type": "execute_result"
    },
    {
     "data": {
      "image/png": "[encoded data removed]",
      "text/plain": [
       "<Figure size 432x288 with 1 Axes>"
      ]
     },
     "metadata": {
      "needs_background": "light"
     },
     "output_type": "display_data"
    }
   ],
   "source": [
    "plt.scatter(df.RM,df.MEDV)\n",
    "plt.xlabel(\"RM\")\n",
    "plt.ylabel(\"MEDV\")"
   ]
  },
  {
   "cell_type": "code",
   "execution_count": 8,
   "metadata": {
    "execution": {
     "iopub.execute_input": "2020-12-11T07:41:57.362749Z",
     "iopub.status.busy": "2020-12-11T07:41:57.361950Z",
     "iopub.status.idle": "2020-12-11T07:41:58.568457Z",
     "shell.execute_reply": "2020-12-11T07:41:58.569119Z"
    },
    "papermill": {
     "duration": 1.244374,
     "end_time": "2020-12-11T07:41:58.569370",
     "exception": false,
     "start_time": "2020-12-11T07:41:57.324996",
     "status": "completed"
    },
    "tags": []
   },
   "outputs": [
    {
     "data": {
      "text/plain": [
       "LinearRegression()"
      ]
     },
     "execution_count": 8,
     "metadata": {},
     "output_type": "execute_result"
    }
   ],
   "source": [
    "from sklearn.linear_model import LinearRegression\n",
    "linear_regression=LinearRegression()\n",
    "x=df.RM.values.reshape(-1,1)\n",
    "y=df.MEDV.values.reshape(-1,1)\n",
    "linear_regression.fit(x,y)\n"
   ]
  },
  {
   "cell_type": "code",
   "execution_count": 9,
   "metadata": {
    "execution": {
     "iopub.execute_input": "2020-12-11T07:41:58.650169Z",
     "iopub.status.busy": "2020-12-11T07:41:58.644220Z",
     "iopub.status.idle": "2020-12-11T07:41:58.819849Z",
     "shell.execute_reply": "2020-12-11T07:41:58.820396Z"
    },
    "papermill": {
     "duration": 0.216444,
     "end_time": "2020-12-11T07:41:58.820576",
     "exception": false,
     "start_time": "2020-12-11T07:41:58.604132",
     "status": "completed"
    },
    "tags": []
   },
   "outputs": [
    {
     "data": {
      "text/plain": [
       "[<matplotlib.lines.Line2D at 0x7fda1db08fd0>]"
      ]
     },
     "execution_count": 9,
     "metadata": {},
     "output_type": "execute_result"
    },
    {
     "data": {
      "image/png": "[encoded data removed]",
      "text/plain": [
       "<Figure size 432x288 with 1 Axes>"
      ]
     },
     "metadata": {
      "needs_background": "light"
     },
     "output_type": "display_data"
    }
   ],
   "source": [
    "y_head=linear_regression.predict(x)\n",
    "plt.scatter(df.RM,df.MEDV)\n",
    "plt.xlabel(\"RM\")\n",
    "plt.ylabel(\"MEDV\")\n",
    "plt.plot(x,y_head,color=\"red\")\n"
   ]
  },
  {
   "cell_type": "code",
   "execution_count": 10,
   "metadata": {
    "execution": {
     "iopub.execute_input": "2020-12-11T07:41:58.894609Z",
     "iopub.status.busy": "2020-12-11T07:41:58.893788Z",
     "iopub.status.idle": "2020-12-11T07:41:58.897883Z",
     "shell.execute_reply": "2020-12-11T07:41:58.897139Z"
    },
    "papermill": {
     "duration": 0.044769,
     "end_time": "2020-12-11T07:41:58.898015",
     "exception": false,
     "start_time": "2020-12-11T07:41:58.853246",
     "status": "completed"
    },
    "tags": []
   },
   "outputs": [
    {
     "name": "stdout",
     "output_type": "stream",
     "text": [
      "b0 is:  [[-34.67062078]]\n",
      "b1 is:  [[9.10210898]]\n",
      "Predict:  [[693.49809772]]\n"
     ]
    }
   ],
   "source": [
    "#%% prediction\n",
    "b0=linear_regression.predict([[0]])\n",
    "b1=linear_regression.coef_\n",
    "print(\"b0 is: \",b0)\n",
    "print(\"b1 is: \",b1)\n",
    "\n",
    "print(\"Predict: \",b1*80+b0)"
   ]
  },
  {
   "cell_type": "code",
   "execution_count": 11,
   "metadata": {
    "execution": {
     "iopub.execute_input": "2020-12-11T07:41:58.972056Z",
     "iopub.status.busy": "2020-12-11T07:41:58.971057Z",
     "iopub.status.idle": "2020-12-11T07:41:58.975233Z",
     "shell.execute_reply": "2020-12-11T07:41:58.975798Z"
    },
    "papermill": {
     "duration": 0.044718,
     "end_time": "2020-12-11T07:41:58.975978",
     "exception": false,
     "start_time": "2020-12-11T07:41:58.931260",
     "status": "completed"
    },
    "tags": []
   },
   "outputs": [
    {
     "name": "stdout",
     "output_type": "stream",
     "text": [
      "r2_score 0.48352545599133423\n"
     ]
    }
   ],
   "source": [
    "from sklearn.metrics import r2_score\n",
    "print(\"r2_score\",r2_score(y,y_head))"
   ]
  },
  {
   "cell_type": "markdown",
   "metadata": {
    "papermill": {
     "duration": 0.033311,
     "end_time": "2020-12-11T07:41:59.043198",
     "exception": false,
     "start_time": "2020-12-11T07:41:59.009887",
     "status": "completed"
    },
    "tags": []
   },
   "source": [
    "the closer the result is to one, the more accurate the guess will be"
   ]
  },
  {
   "cell_type": "markdown",
   "metadata": {
    "papermill": {
     "duration": 0.032947,
     "end_time": "2020-12-11T07:41:59.109838",
     "exception": false,
     "start_time": "2020-12-11T07:41:59.076891",
     "status": "completed"
    },
    "tags": []
   },
   "source": [
    "MULTIPLE LINEAR REGRESSION"
   ]
  },
  {
   "cell_type": "code",
   "execution_count": 12,
   "metadata": {
    "execution": {
     "iopub.execute_input": "2020-12-11T07:41:59.205137Z",
     "iopub.status.busy": "2020-12-11T07:41:59.187484Z",
     "iopub.status.idle": "2020-12-11T07:41:59.210415Z",
     "shell.execute_reply": "2020-12-11T07:41:59.209587Z"
    },
    "papermill": {
     "duration": 0.066445,
     "end_time": "2020-12-11T07:41:59.210573",
     "exception": false,
     "start_time": "2020-12-11T07:41:59.144128",
     "status": "completed"
    },
    "tags": []
   },
   "outputs": [
    {
     "name": "stdout",
     "output_type": "stream",
     "text": [
      "b0 is: [8.8817842e-16]\n",
      "b1, b2,b3,b4,b5 are: [[ 6.77860445e-18 -1.67006842e-17 -4.55184352e-16 -3.23817907e-17\n",
      "   1.00000000e+00]]\n"
     ]
    }
   ],
   "source": [
    "from sklearn.linear_model import LinearRegression\n",
    "x=df.iloc[:,[1,2,3,4,5]].values\n",
    "y=df.RM.values.reshape(-1,1)\n",
    "multiple_linear_reg=LinearRegression()\n",
    "multiple_linear_reg.fit(x,y)\n",
    "print(\"b0 is:\",multiple_linear_reg.intercept_)\n",
    "print(\"b1, b2,b3,b4,b5 are:\",multiple_linear_reg.coef_)"
   ]
  },
  {
   "cell_type": "markdown",
   "metadata": {
    "papermill": {
     "duration": 0.033428,
     "end_time": "2020-12-11T07:41:59.278464",
     "exception": false,
     "start_time": "2020-12-11T07:41:59.245036",
     "status": "completed"
    },
    "tags": []
   },
   "source": [
    "Polynomial Linear Regression"
   ]
  },
  {
   "cell_type": "code",
   "execution_count": 13,
   "metadata": {
    "execution": {
     "iopub.execute_input": "2020-12-11T07:41:59.353791Z",
     "iopub.status.busy": "2020-12-11T07:41:59.352732Z",
     "iopub.status.idle": "2020-12-11T07:41:59.357875Z",
     "shell.execute_reply": "2020-12-11T07:41:59.357258Z"
    },
    "papermill": {
     "duration": 0.045318,
     "end_time": "2020-12-11T07:41:59.358004",
     "exception": false,
     "start_time": "2020-12-11T07:41:59.312686",
     "status": "completed"
    },
    "tags": []
   },
   "outputs": [],
   "source": [
    "from sklearn.preprocessing import PolynomialFeatures\n",
    "polynomial_reg=PolynomialFeatures(degree=4)\n",
    "x_polynomial=polynomial_reg.fit_transform(x)\n"
   ]
  },
  {
   "cell_type": "code",
   "execution_count": 14,
   "metadata": {
    "execution": {
     "iopub.execute_input": "2020-12-11T07:41:59.440951Z",
     "iopub.status.busy": "2020-12-11T07:41:59.439771Z",
     "iopub.status.idle": "2020-12-11T07:41:59.639139Z",
     "shell.execute_reply": "2020-12-11T07:41:59.639841Z"
    },
    "papermill": {
     "duration": 0.247969,
     "end_time": "2020-12-11T07:41:59.640047",
     "exception": false,
     "start_time": "2020-12-11T07:41:59.392078",
     "status": "completed"
    },
    "tags": []
   },
   "outputs": [
    {
     "data": {
      "image/png": "[encoded data removed]",
      "text/plain": [
       "<Figure size 432x288 with 1 Axes>"
      ]
     },
     "metadata": {
      "needs_background": "light"
     },
     "output_type": "display_data"
    }
   ],
   "source": [
    "from sklearn.linear_model import LinearRegression\n",
    "poly_reg=LinearRegression()\n",
    "poly_reg.fit(x_polynomial,y)\n",
    "y_head=poly_reg.predict(x_polynomial)\n",
    "plt.plot(x,y_head,color=\"olive\",label=\"polynomial\")\n",
    "plt.show()"
   ]
  },
  {
   "cell_type": "code",
   "execution_count": 15,
   "metadata": {
    "execution": {
     "iopub.execute_input": "2020-12-11T07:41:59.721460Z",
     "iopub.status.busy": "2020-12-11T07:41:59.720392Z",
     "iopub.status.idle": "2020-12-11T07:41:59.725249Z",
     "shell.execute_reply": "2020-12-11T07:41:59.724535Z"
    },
    "papermill": {
     "duration": 0.04741,
     "end_time": "2020-12-11T07:41:59.725393",
     "exception": false,
     "start_time": "2020-12-11T07:41:59.677983",
     "status": "completed"
    },
    "tags": []
   },
   "outputs": [
    {
     "name": "stdout",
     "output_type": "stream",
     "text": [
      "r2_score 1.0\n"
     ]
    }
   ],
   "source": [
    "from sklearn.metrics import r2_score\n",
    "print(\"r2_score\",r2_score(y,y_head))"
   ]
  },
  {
   "cell_type": "markdown",
   "metadata": {
    "papermill": {
     "duration": 0.035728,
     "end_time": "2020-12-11T07:41:59.797083",
     "exception": false,
     "start_time": "2020-12-11T07:41:59.761355",
     "status": "completed"
    },
    "tags": []
   },
   "source": [
    "Decision Tree Regression"
   ]
  },
  {
   "cell_type": "markdown",
   "metadata": {
    "papermill": {
     "duration": 0.035756,
     "end_time": "2020-12-11T07:41:59.869007",
     "exception": false,
     "start_time": "2020-12-11T07:41:59.833251",
     "status": "completed"
    },
    "tags": []
   },
   "source": [
    "A decision tree is a supervised ml model used to predict a target by learning decision rules from features"
   ]
  },
  {
   "cell_type": "code",
   "execution_count": 16,
   "metadata": {
    "execution": {
     "iopub.execute_input": "2020-12-11T07:41:59.950836Z",
     "iopub.status.busy": "2020-12-11T07:41:59.949941Z",
     "iopub.status.idle": "2020-12-11T07:42:00.220706Z",
     "shell.execute_reply": "2020-12-11T07:42:00.219929Z"
    },
    "papermill": {
     "duration": 0.315807,
     "end_time": "2020-12-11T07:42:00.220842",
     "exception": false,
     "start_time": "2020-12-11T07:41:59.905035",
     "status": "completed"
    },
    "tags": []
   },
   "outputs": [
    {
     "data": {
      "image/png": "[encoded data removed]",
      "text/plain": [
       "<Figure size 432x288 with 1 Axes>"
      ]
     },
     "metadata": {
      "needs_background": "light"
     },
     "output_type": "display_data"
    }
   ],
   "source": [
    "from sklearn.tree import DecisionTreeRegressor\n",
    "x=df.RM.values.reshape(-1,1)\n",
    "y=df.MEDV.values.reshape(-1,1)\n",
    "Dtree=DecisionTreeRegressor()\n",
    "Dtree.fit(x,y)\n",
    "x_=np.arange(min(x),max(x),0.01).reshape(-1,1)\n",
    "y_head=Dtree.predict(x_)\n",
    "plt.plot(x_,y_head,color=\"orange\")\n",
    "plt.show()"
   ]
  },
  {
   "cell_type": "markdown",
   "metadata": {
    "papermill": {
     "duration": 0.037755,
     "end_time": "2020-12-11T07:42:00.297792",
     "exception": false,
     "start_time": "2020-12-11T07:42:00.260037",
     "status": "completed"
    },
    "tags": []
   },
   "source": [
    "Random Forest Regression"
   ]
  },
  {
   "cell_type": "code",
   "execution_count": 17,
   "metadata": {
    "execution": {
     "iopub.execute_input": "2020-12-11T07:42:00.383514Z",
     "iopub.status.busy": "2020-12-11T07:42:00.382601Z",
     "iopub.status.idle": "2020-12-11T07:42:01.062971Z",
     "shell.execute_reply": "2020-12-11T07:42:01.062123Z"
    },
    "papermill": {
     "duration": 0.727321,
     "end_time": "2020-12-11T07:42:01.063119",
     "exception": false,
     "start_time": "2020-12-11T07:42:00.335798",
     "status": "completed"
    },
    "tags": []
   },
   "outputs": [
    {
     "name": "stderr",
     "output_type": "stream",
     "text": [
      "/opt/conda/lib/python3.7/site-packages/ipykernel_launcher.py:3: DataConversionWarning: A column-vector y was passed when a 1d array was expected. Please change the shape of y to (n_samples,), for example using ravel().\n",
      "  This is separate from the ipykernel package so we can avoid doing imports until\n"
     ]
    },
    {
     "data": {
      "image/png": "[encoded data removed]",
      "text/plain": [
       "<Figure size 432x288 with 1 Axes>"
      ]
     },
     "metadata": {
      "needs_background": "light"
     },
     "output_type": "display_data"
    }
   ],
   "source": [
    "from sklearn.ensemble import RandomForestRegressor\n",
    "rf=RandomForestRegressor(n_estimators=150,random_state=42)\n",
    "rf.fit(x,y)\n",
    "x_=np.arange(min(x),max(x),0.01).reshape(-1,1)\n",
    "y_head=rf.predict(x_)\n",
    "plt.plot(x_,y_head,color=\"purple\")\n",
    "plt.show()"
   ]
  },
  {
   "cell_type": "code",
   "execution_count": null,
   "metadata": {
    "papermill": {
     "duration": 0.038978,
     "end_time": "2020-12-11T07:42:01.141586",
     "exception": false,
     "start_time": "2020-12-11T07:42:01.102608",
     "status": "completed"
    },
    "tags": []
   },
   "outputs": [],
   "source": []
  },
  {
   "cell_type": "code",
   "execution_count": null,
   "metadata": {
    "papermill": {
     "duration": 0.039091,
     "end_time": "2020-12-11T07:42:01.222025",
     "exception": false,
     "start_time": "2020-12-11T07:42:01.182934",
     "status": "completed"
    },
    "tags": []
   },
   "outputs": [],
   "source": []
  },
  {
   "cell_type": "code",
   "execution_count": null,
   "metadata": {
    "papermill": {
     "duration": 0.038798,
     "end_time": "2020-12-11T07:42:01.299831",
     "exception": false,
     "start_time": "2020-12-11T07:42:01.261033",
     "status": "completed"
    },
    "tags": []
   },
   "outputs": [],
   "source": []
  },
  {
   "cell_type": "code",
   "execution_count": null,
   "metadata": {
    "papermill": {
     "duration": 0.039574,
     "end_time": "2020-12-11T07:42:01.378797",
     "exception": false,
     "start_time": "2020-12-11T07:42:01.339223",
     "status": "completed"
    },
    "tags": []
   },
   "outputs": [],
   "source": []
  },
  {
   "cell_type": "code",
   "execution_count": null,
   "metadata": {
    "papermill": {
     "duration": 0.038893,
     "end_time": "2020-12-11T07:42:01.456736",
     "exception": false,
     "start_time": "2020-12-11T07:42:01.417843",
     "status": "completed"
    },
    "tags": []
   },
   "outputs": [],
   "source": []
  },
  {
   "cell_type": "code",
   "execution_count": null,
   "metadata": {
    "papermill": {
     "duration": 0.039007,
     "end_time": "2020-12-11T07:42:01.535007",
     "exception": false,
     "start_time": "2020-12-11T07:42:01.496000",
     "status": "completed"
    },
    "tags": []
   },
   "outputs": [],
   "source": []
  },
  {
   "cell_type": "code",
   "execution_count": null,
   "metadata": {
    "papermill": {
     "duration": 0.038683,
     "end_time": "2020-12-11T07:42:01.612828",
     "exception": false,
     "start_time": "2020-12-11T07:42:01.574145",
     "status": "completed"
    },
    "tags": []
   },
   "outputs": [],
   "source": []
  },
  {
   "cell_type": "code",
   "execution_count": null,
   "metadata": {
    "papermill": {
     "duration": 0.038731,
     "end_time": "2020-12-11T07:42:01.690679",
     "exception": false,
     "start_time": "2020-12-11T07:42:01.651948",
     "status": "completed"
    },
    "tags": []
   },
   "outputs": [],
   "source": []
  }
 ],
 "metadata": {
  "kernelspec": {
   "display_name": "Python 3",
   "language": "python",
   "name": "python3"
  },
  "language_info": {
   "codemirror_mode": {
    "name": "ipython",
    "version": 3
   },
   "file_extension": ".py",
   "mimetype": "text/x-python",
   "name": "python",
   "nbconvert_exporter": "python",
   "pygments_lexer": "ipython3",
   "version": "3.7.6"
  },
  "papermill": {
   "duration": 10.626119,
   "end_time": "2020-12-11T07:42:01.838870",
   "environment_variables": {},
   "exception": null,
   "input_path": "__notebook__.ipynb",
   "output_path": "__notebook__.ipynb",
   "parameters": {},
   "start_time": "2020-12-11T07:41:51.212751",
   "version": "2.1.0"
  }
 },
 "nbformat": 4,
 "nbformat_minor": 4
}
